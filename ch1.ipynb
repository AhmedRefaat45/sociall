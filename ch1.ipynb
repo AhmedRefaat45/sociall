{
 "cells": [
  {
   "cell_type": "code",
   "execution_count": 27,
   "id": "0a94eb06",
   "metadata": {},
   "outputs": [
    {
     "data": {
      "image/png": "[encoded data removed]",
      "text/plain": [
       "<Figure size 432x288 with 1 Axes>"
      ]
     },
     "metadata": {},
     "output_type": "display_data"
    }
   ],
   "source": [
    "import networkx as nx\n",
    "G = nx.Graph()\n",
    "nodes_to_add = ['a','b', 'c', 'd','e']\n",
    "G.add_nodes_from(nodes_to_add)\n",
    "edges_to_add = [('a', 'b'),('a', 'c'), ('b', 'c'), ('c', 'd'),('d', 'e'),('d','a'),('e','a')]\n",
    "G.add_edges_from(edges_to_add)\n",
    "nx.draw(G, with_labels=True , node_color='red',\n",
    "        node_size=1800,\n",
    "        font_color='black',\n",
    "        font_size=18,)"
   ]
  },
  {
   "cell_type": "code",
   "execution_count": 28,
   "id": "09b05390",
   "metadata": {},
   "outputs": [
    {
     "name": "stdout",
     "output_type": "stream",
     "text": [
      "a\n",
      "b\n",
      "c\n",
      "d\n",
      "e\n",
      "('a', 'b')\n",
      "('a', 'c')\n",
      "('a', 'd')\n",
      "('a', 'e')\n",
      "('b', 'c')\n",
      "('c', 'd')\n",
      "('d', 'e')\n"
     ]
    }
   ],
   "source": [
    "G.nodes()\n",
    "G.edges()\n",
    "for node in G.nodes:\n",
    "    print(node)\n",
    "    \n",
    "for edge in G.edges:\n",
    "    print(edge)\n"
   ]
  },
  {
   "cell_type": "code",
   "execution_count": 29,
   "id": "2e4d4dfb",
   "metadata": {},
   "outputs": [
    {
     "data": {
      "text/plain": [
       "7"
      ]
     },
     "execution_count": 29,
     "metadata": {},
     "output_type": "execute_result"
    }
   ],
   "source": [
    "G.number_of_nodes()\n",
    "G.number_of_edges()\n"
   ]
  },
  {
   "cell_type": "code",
   "execution_count": 30,
   "id": "7e2d99aa",
   "metadata": {},
   "outputs": [
    {
     "name": "stdout",
     "output_type": "stream",
     "text": [
      "a\n",
      "c\n"
     ]
    }
   ],
   "source": [
    "G.neighbors('b')\n",
    "for neighbor in G.neighbors('b'):\n",
    "    print(neighbor)"
   ]
  },
  {
   "cell_type": "code",
   "execution_count": 31,
   "id": "2ea0dbc2",
   "metadata": {},
   "outputs": [
    {
     "data": {
      "text/plain": [
       "['a', 'c']"
      ]
     },
     "execution_count": 31,
     "metadata": {},
     "output_type": "execute_result"
    }
   ],
   "source": [
    "list(G.neighbors('b'))"
   ]
  },
  {
   "cell_type": "code",
   "execution_count": 33,
   "id": "4fb36128",
   "metadata": {},
   "outputs": [
    {
     "data": {
      "text/plain": [
       "False"
      ]
     },
     "execution_count": 33,
     "metadata": {},
     "output_type": "execute_result"
    }
   ],
   "source": [
    "nx.is_tree(G)"
   ]
  },
  {
   "cell_type": "code",
   "execution_count": 35,
   "id": "984c38f0",
   "metadata": {},
   "outputs": [
    {
     "data": {
      "text/plain": [
       "True"
      ]
     },
     "execution_count": 35,
     "metadata": {},
     "output_type": "execute_result"
    }
   ],
   "source": [
    "nx.is_connected(G)"
   ]
  },
  {
   "cell_type": "code",
   "execution_count": 36,
   "id": "c14da0fd",
   "metadata": {},
   "outputs": [
    {
     "data": {
      "text/plain": [
       "True"
      ]
     },
     "execution_count": 36,
     "metadata": {},
     "output_type": "execute_result"
    }
   ],
   "source": [
    "G.has_node('a')"
   ]
  },
  {
   "cell_type": "code",
   "execution_count": 37,
   "id": "a6b8b4ea",
   "metadata": {},
   "outputs": [
    {
     "data": {
      "text/plain": [
       "False"
      ]
     },
     "execution_count": 37,
     "metadata": {},
     "output_type": "execute_result"
    }
   ],
   "source": [
    "G.has_node('f')"
   ]
  },
  {
   "cell_type": "code",
   "execution_count": 38,
   "id": "17543b1f",
   "metadata": {},
   "outputs": [
    {
     "data": {
      "text/plain": [
       "True"
      ]
     },
     "execution_count": 38,
     "metadata": {},
     "output_type": "execute_result"
    }
   ],
   "source": [
    "'d' in G.nodes"
   ]
  },
  {
   "cell_type": "code",
   "execution_count": 39,
   "id": "ea489bbf",
   "metadata": {},
   "outputs": [
    {
     "data": {
      "text/plain": [
       "True"
      ]
     },
     "execution_count": 39,
     "metadata": {},
     "output_type": "execute_result"
    }
   ],
   "source": [
    "G.has_edge('a','b')"
   ]
  },
  {
   "cell_type": "code",
   "execution_count": 41,
   "id": "61a58ec4",
   "metadata": {},
   "outputs": [
    {
     "data": {
      "text/plain": [
       "False"
      ]
     },
     "execution_count": 41,
     "metadata": {},
     "output_type": "execute_result"
    }
   ],
   "source": [
    "G.has_edge('b','d')"
   ]
  },
  {
   "cell_type": "code",
   "execution_count": 42,
   "id": "e8cfcd85",
   "metadata": {},
   "outputs": [
    {
     "data": {
      "text/plain": [
       "('e', False)"
      ]
     },
     "execution_count": 42,
     "metadata": {},
     "output_type": "execute_result"
    }
   ],
   "source": [
    "'e','d' in G.edges"
   ]
  },
  {
   "cell_type": "code",
   "execution_count": 43,
   "id": "b81ef29e",
   "metadata": {},
   "outputs": [
    {
     "data": {
      "text/plain": [
       "4"
      ]
     },
     "execution_count": 43,
     "metadata": {},
     "output_type": "execute_result"
    }
   ],
   "source": [
    "len(list(G.neighbors('a')))"
   ]
  },
  {
   "cell_type": "code",
   "execution_count": 44,
   "id": "cf47aca9",
   "metadata": {},
   "outputs": [
    {
     "data": {
      "text/plain": [
       "4"
      ]
     },
     "execution_count": 44,
     "metadata": {},
     "output_type": "execute_result"
    }
   ],
   "source": [
    "G.degree('a')"
   ]
  },
  {
   "cell_type": "code",
   "execution_count": 56,
   "id": "85f9247a",
   "metadata": {},
   "outputs": [],
   "source": [
    "def get_leaves(G):\n",
    "    \n",
    "    \n",
    "    G = nx.Graph()\n",
    "    G.add_edges_from([\n",
    "        ('a', 'b'),\n",
    "        ('a', 'd'),\n",
    "        ('c', 'd'),\n",
    "    ])\n",
    "  \n",
    "    assert set(get_leaves(G)) == {'c', 'b'}\n",
    "    "
   ]
  },
  {
   "cell_type": "code",
   "execution_count": 58,
   "id": "5d5139f5",
   "metadata": {},
   "outputs": [
    {
     "data": {
      "text/plain": [
       "['REFO', 'A', 'APPLE']"
      ]
     },
     "execution_count": 58,
     "metadata": {},
     "output_type": "execute_result"
    }
   ],
   "source": [
    "\n",
    "items = ['refo', 'a', 'apple']\n",
    "[item.upper() for item in items]"
   ]
  },
  {
   "cell_type": "code",
   "execution_count": 59,
   "id": "10304297",
   "metadata": {},
   "outputs": [
    {
     "data": {
      "text/plain": [
       "['AAAA', 'Y', 'DDD']"
      ]
     },
     "execution_count": 59,
     "metadata": {},
     "output_type": "execute_result"
    }
   ],
   "source": [
    "items=['aaaa','y','ddd']\n",
    "[item.upper() for item in items]"
   ]
  },
  {
   "cell_type": "code",
   "execution_count": 60,
   "id": "347099b2",
   "metadata": {},
   "outputs": [
    {
     "name": "stdout",
     "output_type": "stream",
     "text": [
      "['a', 'b', 'c', 'd', 'e']\n"
     ]
    }
   ],
   "source": [
    "print(G.nodes())"
   ]
  },
  {
   "cell_type": "code",
   "execution_count": 61,
   "id": "8a714b18",
   "metadata": {},
   "outputs": [
    {
     "name": "stdout",
     "output_type": "stream",
     "text": [
      "[4, 2, 3, 3, 2]\n"
     ]
    }
   ],
   "source": [
    "print([G.degree(n) for n in G.nodes ])"
   ]
  },
  {
   "cell_type": "code",
   "execution_count": 62,
   "id": "00208be1",
   "metadata": {},
   "outputs": [
    {
     "data": {
      "text/plain": [
       "[4, 1, 3]"
      ]
     },
     "execution_count": 62,
     "metadata": {},
     "output_type": "execute_result"
    }
   ],
   "source": [
    "r=(len(item) for item in items )\n",
    "list(r)"
   ]
  },
  {
   "cell_type": "code",
   "execution_count": 63,
   "id": "c3fe0950",
   "metadata": {},
   "outputs": [
    {
     "data": {
      "text/plain": [
       "4"
      ]
     },
     "execution_count": 63,
     "metadata": {},
     "output_type": "execute_result"
    }
   ],
   "source": [
    "max(len(item) for item in items)"
   ]
  },
  {
   "cell_type": "code",
   "execution_count": 64,
   "id": "969ae21b",
   "metadata": {},
   "outputs": [
    {
     "data": {
      "text/plain": [
       "['AAAA', 'DDD', 'Y']"
      ]
     },
     "execution_count": 64,
     "metadata": {},
     "output_type": "execute_result"
    }
   ],
   "source": [
    "sorted(item.upper() for item in items)"
   ]
  },
  {
   "cell_type": "code",
   "execution_count": 70,
   "id": "93a463da",
   "metadata": {},
   "outputs": [
    {
     "data": {
      "image/png": "[encoded data removed]",
      "text/plain": [
       "<Figure size 432x288 with 1 Axes>"
      ]
     },
     "metadata": {},
     "output_type": "display_data"
    }
   ],
   "source": [
    "G=nx.Graph()\n",
    "G.add_nodes_from(['ahmed','refaat','abdalhafez','abdalmohsen'])\n",
    "G.add_edge('ahmed','refaat')\n",
    "nx.draw(G, with_labels=True, font_color='white', node_size=1000)"
   ]
  },
  {
   "cell_type": "code",
   "execution_count": 80,
   "id": "a7937441",
   "metadata": {},
   "outputs": [],
   "source": [
    "def mutual_friends(G, node_1, node_2):\n",
    "    \n",
    "    SG = nx.read_adjlist('../datasets/friends.adjlist')\n",
    "    assert mutual_friends(SG, 'Alice', 'Claire') == ['Frank']\n",
    "    assert mutual_friends(SG, 'George', 'Bob') == []\n",
    "    assert sorted(mutual_friends(SG, 'Claire', 'George')) == ['Dennis', 'Frank']\n",
    "    mutual_friends()\n",
    "    print(G, node_1, node_2)\n",
    "   "
   ]
  },
  {
   "cell_type": "code",
   "execution_count": 82,
   "id": "c2c4afe2",
   "metadata": {},
   "outputs": [
    {
     "data": {
      "image/png": "[encoded data removed]",
      "text/plain": [
       "<Figure size 432x288 with 1 Axes>"
      ]
     },
     "metadata": {},
     "output_type": "display_data"
    }
   ],
   "source": [
    "D=nx.DiGraph()\n",
    "D.add_edges_from([(1,2),(2,3),(3,2),(3,4),(3,5),(4,5),(4,6),(5,6),(6,4),(4,2)])\n",
    "nx.draw(D,with_labels=True)\n"
   ]
  },
  {
   "cell_type": "code",
   "execution_count": 84,
   "id": "6d3885ef",
   "metadata": {},
   "outputs": [
    {
     "data": {
      "text/plain": [
       "True"
      ]
     },
     "execution_count": 84,
     "metadata": {},
     "output_type": "execute_result"
    }
   ],
   "source": [
    "D.has_edge(1,2)"
   ]
  },
  {
   "cell_type": "code",
   "execution_count": 85,
   "id": "2dbaac35",
   "metadata": {},
   "outputs": [
    {
     "data": {
      "text/plain": [
       "False"
      ]
     },
     "execution_count": 85,
     "metadata": {},
     "output_type": "execute_result"
    }
   ],
   "source": [
    "D.has_edge(4,3)"
   ]
  },
  {
   "cell_type": "code",
   "execution_count": 86,
   "id": "a392b459",
   "metadata": {},
   "outputs": [
    {
     "name": "stdout",
     "output_type": "stream",
     "text": [
      "Successors of 2: [3]\n"
     ]
    }
   ],
   "source": [
    "print('Successors of 2:', list(D.successors(2)))"
   ]
  },
  {
   "cell_type": "code",
   "execution_count": 87,
   "id": "92b618af",
   "metadata": {},
   "outputs": [
    {
     "name": "stdout",
     "output_type": "stream",
     "text": [
      "Predecessors of 2: [1, 3, 4]\n"
     ]
    }
   ],
   "source": [
    "print('Predecessors of 2:', list(D.predecessors(2)))"
   ]
  },
  {
   "cell_type": "code",
   "execution_count": 89,
   "id": "37f5388a",
   "metadata": {},
   "outputs": [
    {
     "data": {
      "text/plain": [
       "3"
      ]
     },
     "execution_count": 89,
     "metadata": {},
     "output_type": "execute_result"
    }
   ],
   "source": [
    "D.in_degree(2)\n"
   ]
  },
  {
   "cell_type": "code",
   "execution_count": 90,
   "id": "1cd0951f",
   "metadata": {},
   "outputs": [
    {
     "data": {
      "text/plain": [
       "1"
      ]
     },
     "execution_count": 90,
     "metadata": {},
     "output_type": "execute_result"
    }
   ],
   "source": [
    "D.out_degree(2)"
   ]
  },
  {
   "cell_type": "code",
   "execution_count": 91,
   "id": "8c37c857",
   "metadata": {},
   "outputs": [
    {
     "name": "stdout",
     "output_type": "stream",
     "text": [
      "Successors of 2: [3]\n"
     ]
    }
   ],
   "source": [
    "print('Successors of 2:', list(D.successors(2)))"
   ]
  },
  {
   "cell_type": "code",
   "execution_count": 92,
   "id": "d042cadd",
   "metadata": {},
   "outputs": [
    {
     "name": "stdout",
     "output_type": "stream",
     "text": [
      "\"Neighbors\" of 2: [3]\n"
     ]
    }
   ],
   "source": [
    "print('\"Neighbors\" of 2:', list(D.neighbors(2)))"
   ]
  },
  {
   "cell_type": "code",
   "execution_count": null,
   "id": "06612d65",
   "metadata": {},
   "outputs": [],
   "source": []
  }
 ],
 "metadata": {
  "kernelspec": {
   "display_name": "Python 3 (ipykernel)",
   "language": "python",
   "name": "python3"
  },
  "language_info": {
   "codemirror_mode": {
    "name": "ipython",
    "version": 3
   },
   "file_extension": ".py",
   "mimetype": "text/x-python",
   "name": "python",
   "nbconvert_exporter": "python",
   "pygments_lexer": "ipython3",
   "version": "3.9.7"
  }
 },
 "nbformat": 4,
 "nbformat_minor": 5
}
